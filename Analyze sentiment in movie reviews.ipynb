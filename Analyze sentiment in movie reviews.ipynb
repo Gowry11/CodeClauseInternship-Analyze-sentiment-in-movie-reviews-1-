{
 "cells": [
  {
   "cell_type": "markdown",
   "id": "c37b78cd-5c45-4353-9d50-e248668d233f",
   "metadata": {},
   "source": [
    "# Sentiment Analysis of Movie Reviews\n",
    "**Internship Task - CodeClause**\n",
    "\n",
    "**NAME: GOWRY P P**\n",
    "\n",
    "This project applies Natural Language Processing (NLP) to classify movie reviews as positive or negative using the NLTK movie reviews dataset.\n",
    "\n",
    "Also experimenting with K-Means clustering as an optional bonus.\n"
   ]
  },
  {
   "cell_type": "markdown",
   "id": "0763da85-3d15-4096-8807-cacfe8a7b331",
   "metadata": {},
   "source": [
    "## Setting up Environment, Libraries: pandas, nltk, sklearn, matplotlib, seaborn"
   ]
  },
  {
   "cell_type": "code",
   "execution_count": 12,
   "id": "ccfb72bc-a277-4a31-b5d1-8bbb191acaae",
   "metadata": {
    "scrolled": true
   },
   "outputs": [
    {
     "name": "stdout",
     "output_type": "stream",
     "text": [
      "Defaulting to user installation because normal site-packages is not writeable\n",
      "Requirement already satisfied: pandas in c:\\programdata\\anaconda3\\lib\\site-packages (2.2.2)\n",
      "Requirement already satisfied: nltk in c:\\programdata\\anaconda3\\lib\\site-packages (3.8.1)\n",
      "Requirement already satisfied: scikit-learn in c:\\programdata\\anaconda3\\lib\\site-packages (1.4.2)\n",
      "Requirement already satisfied: matplotlib in c:\\programdata\\anaconda3\\lib\\site-packages (3.8.4)\n",
      "Requirement already satisfied: seaborn in c:\\programdata\\anaconda3\\lib\\site-packages (0.13.2)\n",
      "Requirement already satisfied: numpy>=1.26.0 in c:\\programdata\\anaconda3\\lib\\site-packages (from pandas) (1.26.4)\n",
      "Requirement already satisfied: python-dateutil>=2.8.2 in c:\\programdata\\anaconda3\\lib\\site-packages (from pandas) (2.9.0.post0)\n",
      "Requirement already satisfied: pytz>=2020.1 in c:\\programdata\\anaconda3\\lib\\site-packages (from pandas) (2024.1)\n",
      "Requirement already satisfied: tzdata>=2022.7 in c:\\programdata\\anaconda3\\lib\\site-packages (from pandas) (2023.3)\n",
      "Requirement already satisfied: click in c:\\programdata\\anaconda3\\lib\\site-packages (from nltk) (8.1.7)\n",
      "Requirement already satisfied: joblib in c:\\programdata\\anaconda3\\lib\\site-packages (from nltk) (1.4.2)\n",
      "Requirement already satisfied: regex>=2021.8.3 in c:\\programdata\\anaconda3\\lib\\site-packages (from nltk) (2023.10.3)\n",
      "Requirement already satisfied: tqdm in c:\\programdata\\anaconda3\\lib\\site-packages (from nltk) (4.66.4)\n",
      "Requirement already satisfied: scipy>=1.6.0 in c:\\programdata\\anaconda3\\lib\\site-packages (from scikit-learn) (1.13.1)\n",
      "Requirement already satisfied: threadpoolctl>=2.0.0 in c:\\programdata\\anaconda3\\lib\\site-packages (from scikit-learn) (2.2.0)\n",
      "Requirement already satisfied: contourpy>=1.0.1 in c:\\programdata\\anaconda3\\lib\\site-packages (from matplotlib) (1.2.0)\n",
      "Requirement already satisfied: cycler>=0.10 in c:\\programdata\\anaconda3\\lib\\site-packages (from matplotlib) (0.11.0)\n",
      "Requirement already satisfied: fonttools>=4.22.0 in c:\\programdata\\anaconda3\\lib\\site-packages (from matplotlib) (4.51.0)\n",
      "Requirement already satisfied: kiwisolver>=1.3.1 in c:\\programdata\\anaconda3\\lib\\site-packages (from matplotlib) (1.4.4)\n",
      "Requirement already satisfied: packaging>=20.0 in c:\\programdata\\anaconda3\\lib\\site-packages (from matplotlib) (23.2)\n",
      "Requirement already satisfied: pillow>=8 in c:\\programdata\\anaconda3\\lib\\site-packages (from matplotlib) (10.3.0)\n",
      "Requirement already satisfied: pyparsing>=2.3.1 in c:\\programdata\\anaconda3\\lib\\site-packages (from matplotlib) (3.0.9)\n",
      "Requirement already satisfied: six>=1.5 in c:\\programdata\\anaconda3\\lib\\site-packages (from python-dateutil>=2.8.2->pandas) (1.16.0)\n",
      "Requirement already satisfied: colorama in c:\\programdata\\anaconda3\\lib\\site-packages (from click->nltk) (0.4.6)\n"
     ]
    }
   ],
   "source": [
    "!pip install pandas nltk scikit-learn matplotlib seaborn\n"
   ]
  },
  {
   "cell_type": "markdown",
   "id": "04b1bb4b-7c2a-45da-9dee-53f22711f2bb",
   "metadata": {},
   "source": [
    "## NLTK's sample dataset:"
   ]
  },
  {
   "cell_type": "code",
   "execution_count": 15,
   "id": "b2663eb3-6f84-4467-ac86-6d031cc19b14",
   "metadata": {},
   "outputs": [
    {
     "name": "stderr",
     "output_type": "stream",
     "text": [
      "[nltk_data] Downloading package movie_reviews to\n",
      "[nltk_data]     C:\\Users\\gowry\\AppData\\Roaming\\nltk_data...\n",
      "[nltk_data]   Package movie_reviews is already up-to-date!\n"
     ]
    }
   ],
   "source": [
    "import nltk\n",
    "nltk.download('movie_reviews')\n",
    "from nltk.corpus import movie_reviews\n",
    "\n",
    "docs = [(list(movie_reviews.words(fileid)), category)\n",
    "        for category in movie_reviews.categories()\n",
    "        for fileid in movie_reviews.fileids(category)]\n"
   ]
  },
  {
   "cell_type": "markdown",
   "id": "3952b89e-981d-445c-b8bc-10394b1a6ae1",
   "metadata": {},
   "source": [
    "## Text Preprocessing\n",
    "\n",
    "- Cleans the text so the model can understand it.\n",
    "- Makes your text clean and uniform.\n",
    "- Removes unnecessary words (like stopwords and punctuation).\n",
    "- Helps machine learning models focus on the important parts.\n"
   ]
  },
  {
   "cell_type": "code",
   "execution_count": 18,
   "id": "8b8d4527-caac-4a02-99c2-123514140388",
   "metadata": {},
   "outputs": [
    {
     "name": "stderr",
     "output_type": "stream",
     "text": [
      "[nltk_data] Downloading package punkt to\n",
      "[nltk_data]     C:\\Users\\gowry\\AppData\\Roaming\\nltk_data...\n",
      "[nltk_data]   Package punkt is already up-to-date!\n",
      "[nltk_data] Downloading package stopwords to\n",
      "[nltk_data]     C:\\Users\\gowry\\AppData\\Roaming\\nltk_data...\n",
      "[nltk_data]   Package stopwords is already up-to-date!\n",
      "[nltk_data] Downloading package wordnet to\n",
      "[nltk_data]     C:\\Users\\gowry\\AppData\\Roaming\\nltk_data...\n",
      "[nltk_data]   Package wordnet is already up-to-date!\n"
     ]
    }
   ],
   "source": [
    "import nltk\n",
    "from nltk.corpus import stopwords\n",
    "from nltk.stem import WordNetLemmatizer\n",
    "import string\n",
    "\n",
    "nltk.download('punkt')\n",
    "nltk.download('stopwords')\n",
    "nltk.download('wordnet')\n",
    "\n",
    "stop_words = set(stopwords.words('english'))\n",
    "lemmatizer = WordNetLemmatizer()\n",
    "\n",
    "def preprocess(text):\n",
    "    # Lowercase\n",
    "    text = text.lower()\n",
    "    # Remove punctuation\n",
    "    text = ''.join([ch for ch in text if ch not in string.punctuation])\n",
    "    # Tokenize\n",
    "    tokens = nltk.word_tokenize(text)\n",
    "    # Remove stopwords and lemmatize\n",
    "    tokens = [lemmatizer.lemmatize(word) for word in tokens if word not in stop_words]\n",
    "    return ' '.join(tokens)\n"
   ]
  },
  {
   "cell_type": "markdown",
   "id": "a1b5c244-c343-4ce7-ab81-8298ff1c433a",
   "metadata": {},
   "source": [
    "## Apply preprocessing:"
   ]
  },
  {
   "cell_type": "code",
   "execution_count": 21,
   "id": "72079b2d-4b42-46be-a577-f79545c9cb2d",
   "metadata": {},
   "outputs": [],
   "source": [
    "#Randomizes the order of reviews\n",
    "#Turns list of words into full sentences\n",
    "#Converts text labels to numbers (1 = pos, 0 = neg)\n",
    "import random\n",
    "random.shuffle(docs)  # Shuffle for randomness\n",
    "\n",
    "X = [' '.join(words) for words, label in docs]  # Join tokens into full sentences\n",
    "y = [1 if label == 'pos' else 0 for words, label in docs]  # Convert labels to 1 (pos) or 0 (neg)\n"
   ]
  },
  {
   "cell_type": "code",
   "execution_count": 23,
   "id": "9561fa00-18db-49dd-bc19-3920d39fe837",
   "metadata": {},
   "outputs": [],
   "source": [
    "#Applies your cleaning function to every movie review"
   ]
  },
  {
   "cell_type": "code",
   "execution_count": 26,
   "id": "46ebedf7-86f3-4722-8cf6-d119b0a561ef",
   "metadata": {},
   "outputs": [],
   "source": [
    "X_clean = [preprocess(text) for text in X]\n"
   ]
  },
  {
   "cell_type": "code",
   "execution_count": 28,
   "id": "cd7ca649-7027-4037-b09e-71dc8ee36480",
   "metadata": {},
   "outputs": [
    {
     "name": "stdout",
     "output_type": "stream",
     "text": [
      "when i initially set out to review this film , my tag line was going to be \" you too can believe whales can fly \" . then it was going to be \" you too can believe pastel triangles can fly \" . then , it was going to be \" you too can believe wood sprites can fly \" . finally , i just gave up trying to come up with a tag line and decided to say . . . there ' s a lot of flying going on in this film ! as our first host steve martin tells us , the original concept behind fantasia was to bring it out every year with some old segments retained and some new segments added in . well apparently that plan fell by the wayside for a while , because approximately sixty years have passed since the original classic was released . part of this might have something to do with the cold reception the film got when it was first released in 1940 ( grossing somewhere close to $ 110 , 000 in its original month of release ) . subsequent re - releases of the film have elevated the popularity of the film to the classic status it has finally achieved ( and rightfully deserved ) . to celebrate the release of an updated version of fantasia , disney and imax teamed up to present the animated film in a fashion no one had seen before : six stories high . in an exclusive four month engagement ( from january 1st to april 30th , 2000 ) , fantasia 2000 can be seen at many imax theaters across the us . after the engagement is over , the film will be shown at regular theaters . is the format effective for the film ? with a few exceptions , yes . the first segment we are presented with is set to beethoven ' s fifth symphony . it ' s hard to describe exactly what this segment is about , but it involves a bunch of brightly colored butterfly looking triangles flitting about happily . everything seems to be going great for these little things until the ground erupts with swarms of evil , black bat - like triangles that attack and engulf their lighter counterparts . eventually , shafts of light from above help drive away the evil bat - like things and peace returns to the butterfly things . though this segment isn ' t very story driven , some of the images are very visually strong , especially the scene in which the dark cloud of bat things ( who are all outlined in blood red colors ) begin to overtake the skies . the next segment is set to ottorino respighi ' s \" the pines of rome \" . in this segment , some humpback whales swim happily through the ocean and eventually emerge from the water and fly around the massive icebergs that pepper the oceanscape . a whale calf gets into a scuffle with some nearby birds during the flight and ends up getting trapped in a giant iceberg he smashes into while trying to avoid the birds attack . he is finally saved ( by another liberating shaft of light ) and he and his brethren take to the skies and fly into the upper atmosphere where they frolic in the \" oceans \" of clouds . again , visuals are the key with this segment , especially where the whales are involved . reportedly the whales , as viewed on an imax screen in certain sequences , are shown as actual size . the cgi whales look incredibly life - like , except for some googly cartoon eyes drawn onto the images . one especially striking image involves the giant shadow of one of the whales being cast through the wall of an iceberg as the whale calf tries to find a way out to its parent . absolutely beautiful stuff . the third segment ( and the least of the eight segments ) is set to george gershwin ' s \" rhapsody in blue \" . this segment is designed as a tribute to acclaimed caricaturist al hirschfeld , and intertwines four different stories about sad souls living in depression era new york . there ' s a construction worker who dreams of being a jazz drummer , an out - of - work sad sack that dreams of having a job , a young girl that dreams of spending time with her parents instead of being hustled off by a schoolmarm , and a nebbish who dreams of being free from his overbearing wife . i won ' t go into how everything works out , but in fine disney tradition there is a happy ending . unfortunately , the story drags quite a bit and the seems out of place within the hyper reality of the rest of the segments . segment four is set to dmitri shostakovich ' s \" piano concerto no . 2 \" and is an animated version of hans christian andersen ' s \" the steadfast tin soldier \" . a one legged toy tin soldier falls in love with a wind - up clock ballerina ( whom he assumes is also one legged because he can ' t see her other leg extended out behind her ) , much to the dismay of an evil jack - in - the - box jester . the jester knocks the soldier out of a window and continues pursuing the ballerina . little does the jester know , the soldier has been deposited in the sewer and has journeyed through the pipelines only to be swallowed by a fish that has been captured and sold to the owner of the set of tin soldiers that the one legged one comes from . the soldier eventually saves the day and gets the girl . although the ending has been altered from the andersen story , \" the steadfast tin soldier \" is decently told with in the framework of a seven minute short . some children may find the jester to be a little frightening , but otherwise the segment is well made . segment five is the funniest of the bunch . set to camille saint - saens \" the carnival of the animals \" , this segment features a flamingo torturing his fellow flamingos with a yo - yo while they are trying to perform a choreographed dance number . while it is the shortest clip of the group and a throwback to the alligators and hippos dancing in the first fantasia , it is still well accomplished and a welcome bit of comedy . segment six is the only segment to be repeated from the original 1940 fantasia , and it ' s the one that people remember most , \" the sorcerer ' s apprentice \" . the story is the most recognizable , so the draw here is seeing it on the enormous imax screen in remastered stereo . unfortunately , the segment wasn ' t made to be presented on large format film ( considering it was shot full frame ) and exhibits large amounts of grain . there were at least two occasions where images were very hard to make out due to the excessive grain . similar problems crop up on modern day releases when projected on screens too large for the image to be shown accurately ( but no one seems to notice for some strange reason ) , an anomaly common to many 18 - plus screen theaters . segment seven is set to sir edward elgar ' s \" pomp and circumstance march no . 1 \" and is the only other fantasia segment to feature a stock disney character . donald duck \" stars \" as an assistant to noah , whose task is loading all of the animals onto the ark . during the loading , donald and his wife lose sight of each other and both believe that the other one didn ' t make it on the boat . they are constantly missing each other due to comic misadventures mainly involving donald being crushed by animals in various manners . despite the slapstick style of comedy in this piece , it displays more emotion in its final scene than many of the tear - jerkers foisted on audiences these days . powerful stuff . segment eight brings a whole new meaning to the clich ? \" saving the best for last \" . set to igor stravinsky ' s \" the firebird \" , an elk awakens a forest sprite that proceeds to change the wintery landscape into a beautiful springtime landscape . trees bloom and flowers blossom and everything seems to be going well until the sprite becomes inquisitive about a large mountain housing a strange formation . when the sprite examines the formation , it awakens and becomes the titular firebird . in a stunning spectacle , the firebird rears back and unleashes and fire storm that destroys everything in its path , including everything that the sprite has worked to create . some amazing animation is present here , and well worth the ten dollars a ticket alone ( although brush strokes are evident in one scene due to the enlargement of the film ) . the host segments are largely ( no pun intended ) throwaways , although steve martin ' s clip is pretty funny . be sure to stay through the credits for a little more humor from martin . penn and teller are usually funny , but here their gags seem routine and therefore uninteresting . the best segment comes from , of all people , bette midler , who gets to tell us about some of the abandoned segments that never made it off of the drawing board . pieces like flight of the bumblebee , a take on the four horsemen set to wagner ' s \" ride of the valkyries \" , and a strange segment prepared in the ' 40s by salvador dali that never was shown are all previewed here and teased that they may appear in future installments . for fans of visual stimulation or classical music , fantasia 2000 is a perfect way to spend the afternoon . the film is also decent family entertainment and contains little to no objectionable material . as i mentioned earlier in the review , if ten dollars seems like too much for you to spend on this film , fear not because after its run in imax theaters it is going to be brought out in regular theaters . i must stress that the best way to see this film is on an imax screen though . then you too can believe that whales / triangle things / sprites can fly . [ g ]\n",
      "1\n"
     ]
    }
   ],
   "source": [
    "#Optional: Check what’s inside X and y\n",
    "print(X[0])  # First review\n",
    "print(y[0])  # Its sentiment label (1 or 0)\n"
   ]
  },
  {
   "cell_type": "markdown",
   "id": "25c0cb36-aee2-4c77-95ad-eca71c16790d",
   "metadata": {},
   "source": [
    "## Feature Extraction – TF-IDF Vectorization"
   ]
  },
  {
   "cell_type": "code",
   "execution_count": 31,
   "id": "3214e400-14ae-45e5-b453-bdfa6c481008",
   "metadata": {},
   "outputs": [
    {
     "name": "stdout",
     "output_type": "stream",
     "text": [
      "TF-IDF matrix shape: (2000, 5000)\n"
     ]
    }
   ],
   "source": [
    "#convert the cleaned text (X_clean) into numerical form using TF-IDF.\n",
    "from sklearn.feature_extraction.text import TfidfVectorizer\n",
    "\n",
    "# Initialize TF-IDF Vectorizer\n",
    "vectorizer = TfidfVectorizer(max_features=5000)\n",
    "\n",
    "# Fit and transform the cleaned reviews\n",
    "X_vectorized = vectorizer.fit_transform(X_clean)\n",
    "\n",
    "# Check the shape\n",
    "print(\"TF-IDF matrix shape:\", X_vectorized.shape)\n"
   ]
  },
  {
   "cell_type": "markdown",
   "id": "8f1940eb-5445-4056-958e-5f3f5769d2b8",
   "metadata": {},
   "source": [
    "## Build Sentiment Classifier – Logistic Regression"
   ]
  },
  {
   "cell_type": "code",
   "execution_count": 34,
   "id": "a3a8b6a9-60ca-4306-98ee-bc29716e7fa6",
   "metadata": {},
   "outputs": [
    {
     "name": "stdout",
     "output_type": "stream",
     "text": [
      "Accuracy: 0.8525\n",
      "\n",
      "Classification Report:\n",
      "               precision    recall  f1-score   support\n",
      "\n",
      "           0       0.85      0.85      0.85       200\n",
      "           1       0.85      0.85      0.85       200\n",
      "\n",
      "    accuracy                           0.85       400\n",
      "   macro avg       0.85      0.85      0.85       400\n",
      "weighted avg       0.85      0.85      0.85       400\n",
      "\n"
     ]
    }
   ],
   "source": [
    "#split the dataset and train a model to classify reviews.\n",
    "from sklearn.model_selection import train_test_split\n",
    "from sklearn.linear_model import LogisticRegression\n",
    "from sklearn.metrics import accuracy_score, classification_report\n",
    "\n",
    "# Split data: 80% training, 20% testing\n",
    "X_train, X_test, y_train, y_test = train_test_split(X_vectorized, y, test_size=0.2, random_state=42)\n",
    "\n",
    "# Create and train the Logistic Regression model\n",
    "model = LogisticRegression(max_iter=1000)\n",
    "model.fit(X_train, y_train)\n",
    "\n",
    "# Make predictions\n",
    "y_pred = model.predict(X_test)\n",
    "\n",
    "# Evaluation\n",
    "print(\"Accuracy:\", accuracy_score(y_test, y_pred))\n",
    "print(\"\\nClassification Report:\\n\", classification_report(y_test, y_pred))\n"
   ]
  },
  {
   "cell_type": "markdown",
   "id": "12e913c8-e390-4a76-acae-be897a7a20b5",
   "metadata": {},
   "source": [
    "## K-Means Clustering"
   ]
  },
  {
   "cell_type": "code",
   "execution_count": 37,
   "id": "596cb4cd-bb8d-41e8-8a50-e8163dd0f734",
   "metadata": {},
   "outputs": [
    {
     "name": "stdout",
     "output_type": "stream",
     "text": [
      "Confusion Matrix for KMeans:\n",
      " [[252 748]\n",
      " [202 798]]\n"
     ]
    }
   ],
   "source": [
    "from sklearn.cluster import KMeans\n",
    "from sklearn.metrics import confusion_matrix\n",
    "import numpy as np\n",
    "\n",
    "# Fit KMeans with 2 clusters\n",
    "kmeans = KMeans(n_clusters=2, random_state=42)\n",
    "kmeans.fit(X_vectorized)\n",
    "\n",
    "# Show the clustering results compared to actual sentiment labels\n",
    "conf_matrix = confusion_matrix(y, kmeans.labels_)\n",
    "print(\"Confusion Matrix for KMeans:\\n\", conf_matrix)\n"
   ]
  },
  {
   "cell_type": "markdown",
   "id": "76dbe551-5efa-4a6b-a0a4-85bb3fd5b36e",
   "metadata": {},
   "source": [
    "## Visualize Sentiment Distribution"
   ]
  },
  {
   "cell_type": "code",
   "execution_count": 40,
   "id": "32f6f73d-437d-4cd5-835e-373d0cd45095",
   "metadata": {},
   "outputs": [
    {
     "data": {
      "image/png": "[encoded data removed]",
      "text/plain": [
       "<Figure size 640x480 with 1 Axes>"
      ]
     },
     "metadata": {},
     "output_type": "display_data"
    }
   ],
   "source": [
    "#see how many reviews are positive vs. negative.\n",
    "import matplotlib.pyplot as plt\n",
    "import seaborn as sns\n",
    "\n",
    "sns.countplot(x=y)\n",
    "plt.title(\"Sentiment Distribution (0 = Negative, 1 = Positive)\")\n",
    "plt.xlabel(\"Sentiment\")\n",
    "plt.ylabel(\"Count\")\n",
    "plt.show()\n"
   ]
  },
  {
   "cell_type": "markdown",
   "id": "3919b2fe-3ea8-4b07-b863-80cf95311ae9",
   "metadata": {},
   "source": [
    "##  Conclusion\n",
    "- Successfully cleaned and processed movie reviews using NLTK.\n",
    "- Applied TF-IDF to convert text to numerical data.\n",
    "- Built a Logistic Regression classifier that performed well on sentiment classification.\n",
    "- Optionally explored K-Means clustering to group reviews.\n",
    "\n",
    "This project demonstrated core NLP tasks like preprocessing, feature extraction, classification, and clustering."
   ]
  },
  {
   "cell_type": "code",
   "execution_count": null,
   "id": "ad5c6329-6b30-4738-82c9-2ac87ac9ad45",
   "metadata": {},
   "outputs": [],
   "source": []
  }
 ],
 "metadata": {
  "kernelspec": {
   "display_name": "Python 3 (ipykernel)",
   "language": "python",
   "name": "python3"
  },
  "language_info": {
   "codemirror_mode": {
    "name": "ipython",
    "version": 3
   },
   "file_extension": ".py",
   "mimetype": "text/x-python",
   "name": "python",
   "nbconvert_exporter": "python",
   "pygments_lexer": "ipython3",
   "version": "3.12.4"
  }
 },
 "nbformat": 4,
 "nbformat_minor": 5
}
